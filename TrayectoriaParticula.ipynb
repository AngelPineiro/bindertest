{
 "cells": [
  {
   "cell_type": "code",
   "execution_count": 1,
   "id": "501c807e",
   "metadata": {},
   "outputs": [
    {
     "data": {
      "text/html": [
       "<div id=\"glowscript\" class=\"glowscript\"></div>"
      ],
      "text/plain": [
       "<IPython.core.display.HTML object>"
      ]
     },
     "metadata": {},
     "output_type": "display_data"
    },
    {
     "data": {
      "application/javascript": [
       "if (typeof Jupyter !== \"undefined\") { window.__context = { glowscript_container: $(\"#glowscript\").removeAttr(\"id\")};}else{ element.textContent = ' ';}"
      ],
      "text/plain": [
       "<IPython.core.display.Javascript object>"
      ]
     },
     "metadata": {},
     "output_type": "display_data"
    },
    {
     "data": {
      "text/html": [
       "<div id=\"glowscript\" class=\"glowscript\"></div>"
      ],
      "text/plain": [
       "<IPython.core.display.HTML object>"
      ]
     },
     "metadata": {},
     "output_type": "display_data"
    },
    {
     "data": {
      "application/javascript": [
       "if (typeof Jupyter !== \"undefined\") { window.__context = { glowscript_container: $(\"#glowscript\").removeAttr(\"id\")};}else{ element.textContent = ' ';}"
      ],
      "text/plain": [
       "<IPython.core.display.Javascript object>"
      ]
     },
     "metadata": {},
     "output_type": "display_data"
    },
    {
     "data": {
      "application/javascript": [
       "if (typeof Jupyter !== \"undefined\") {require.undef(\"nbextensions/vpython_libraries/glow.min\");}else{element.textContent = ' ';}"
      ],
      "text/plain": [
       "<IPython.core.display.Javascript object>"
      ]
     },
     "metadata": {},
     "output_type": "display_data"
    },
    {
     "data": {
      "application/javascript": [
       "if (typeof Jupyter !== \"undefined\") {require.undef(\"nbextensions/vpython_libraries/glowcomm\");}else{element.textContent = ' ';}"
      ],
      "text/plain": [
       "<IPython.core.display.Javascript object>"
      ]
     },
     "metadata": {},
     "output_type": "display_data"
    },
    {
     "data": {
      "application/javascript": [
       "if (typeof Jupyter !== \"undefined\") {require.undef(\"nbextensions/vpython_libraries/jquery-ui.custom.min\");}else{element.textContent = ' ';}"
      ],
      "text/plain": [
       "<IPython.core.display.Javascript object>"
      ]
     },
     "metadata": {},
     "output_type": "display_data"
    },
    {
     "data": {
      "application/javascript": [
       "if (typeof Jupyter !== \"undefined\") {require([\"nbextensions/vpython_libraries/glow.min\"], function(){console.log(\"GLOW LOADED\");});}else{element.textContent = ' ';}"
      ],
      "text/plain": [
       "<IPython.core.display.Javascript object>"
      ]
     },
     "metadata": {},
     "output_type": "display_data"
    },
    {
     "data": {
      "application/javascript": [
       "if (typeof Jupyter !== \"undefined\") {require([\"nbextensions/vpython_libraries/glowcomm\"], function(){console.log(\"GLOWCOMM LOADED\");});}else{element.textContent = ' ';}"
      ],
      "text/plain": [
       "<IPython.core.display.Javascript object>"
      ]
     },
     "metadata": {},
     "output_type": "display_data"
    },
    {
     "data": {
      "application/javascript": [
       "if (typeof Jupyter !== \"undefined\") {require([\"nbextensions/vpython_libraries/jquery-ui.custom.min\"], function(){console.log(\"JQUERY LOADED\");});}else{element.textContent = ' ';}"
      ],
      "text/plain": [
       "<IPython.core.display.Javascript object>"
      ]
     },
     "metadata": {},
     "output_type": "display_data"
    }
   ],
   "source": [
    "from vpython import *\n",
    "import numpy as np\n",
    "scene = canvas(background=color.white, autoscale=False)\n",
    "\n",
    "run = False\n",
    "def runbutton(b): # Called when user clicks the Run/Pause button\n",
    "    global run\n",
    "    if run: b.text = 'Run' # b references the button\n",
    "    else: b.text = 'Pause'\n",
    "    run = not run\n",
    "\n",
    "r0=vector(-14,-5,0)\n",
    "v0=vector(8,15,0)\n",
    "a=vector(0,-9.806,0)\n",
    "\n",
    "posicionbase=vector(0,-5,0)\n",
    "tamanhobase=vector(30,0.2,10)\n",
    "\n",
    "base = box(pos=posicionbase, size=tamanhobase, texture=textures.wood)\n",
    "bola = sphere(pos=r0, radius=0.4, color=color.red, make_trail=True, emissive=True) #, trail_type=\"points\")\n",
    "bola.v=v0\n",
    "bola.a=a\n",
    "\n",
    "attach_arrow(bola, 'v', scale=0.5, color=color.blue)\n",
    "attach_arrow(bola, 'a', scale=0.5, color=color.yellow)\n",
    "attach_light(bola)\n",
    "\n",
    "button(text='Run', bind=runbutton) \n",
    "\n",
    "graph(title='Posición de la partícula', height=200, xtitle='<i>t</i>, s', ytitle='<i>v<sub>y</sub></i>, m')\n",
    "y = gcurve(color=color.red, legend=True, label=\"y\")\n",
    "x = gcurve(color=color.black, legend=True, label=\"x\")\n",
    "\n",
    "t=0; dt=0.01\n",
    "\n",
    "while bola.pos.x < tamanhobase.x*0.5 and bola.pos.y > posicionbase.y-0.1:\n",
    "    rate(50) # iteraciones por segundo\n",
    "    if run:\n",
    "        bola.v=v0+a*t\n",
    "        bola.pos=r0+v0*t+0.5*a*t**2\n",
    "        y.plot(t, bola.pos.y-r0.y)\n",
    "        x.plot(t, bola.pos.x-r0.x)\n",
    "        t=t+dt"
   ]
  },
  {
   "cell_type": "code",
   "execution_count": null,
   "id": "07ac6825",
   "metadata": {},
   "outputs": [],
   "source": []
  }
 ],
 "metadata": {
  "kernelspec": {
   "display_name": "Python 3 (ipykernel)",
   "language": "python",
   "name": "python3"
  },
  "language_info": {
   "codemirror_mode": {
    "name": "ipython",
    "version": 3
   },
   "file_extension": ".py",
   "mimetype": "text/x-python",
   "name": "python",
   "nbconvert_exporter": "python",
   "pygments_lexer": "ipython3",
   "version": "3.10.4"
  }
 },
 "nbformat": 4,
 "nbformat_minor": 5
}
